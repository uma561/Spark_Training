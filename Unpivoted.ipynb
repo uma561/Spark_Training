{
  "metadata": {
    "application/vnd.databricks.v1+notebook": {
      "notebookName": "Unpivoted",
      "dashboards": [],
      "notebookMetadata": {
        "pythonIndentUnit": 4
      },
      "language": "python",
      "widgets": {},
      "notebookOrigID": 2244188919977585
    },
    "language_info": {
      "codemirror_mode": {
        "name": "python",
        "version": 3
      },
      "file_extension": ".py",
      "mimetype": "text/x-python",
      "name": "python",
      "nbconvert_exporter": "python",
      "pygments_lexer": "ipython3",
      "version": "3.8"
    },
    "kernelspec": {
      "name": "python",
      "display_name": "Python (Pyodide)",
      "language": "python"
    }
  },
  "nbformat_minor": 4,
  "nbformat": 4,
  "cells": [
    {
      "cell_type": "code",
      "source": "sc",
      "metadata": {
        "application/vnd.databricks.v1+cell": {
          "title": "",
          "showTitle": false,
          "inputWidgets": {},
          "nuid": "55994733-f326-4354-adc5-4996865c15ae"
        }
      },
      "execution_count": null,
      "outputs": [
        {
          "output_type": "display_data",
          "data": {
            "text/html": [
              "\n        <div>\n            <p><b>SparkContext</b></p>\n\n            <p><a href=\"/?o=3106858100295948#setting/sparkui/0912-161513-pyppzu9z/driver-8748264482356907420\">Spark UI</a></p>\n\n            <dl>\n              <dt>Version</dt>\n                <dd><code>v3.2.1</code></dd>\n              <dt>Master</dt>\n                <dd><code>local[8]</code></dd>\n              <dt>AppName</dt>\n                <dd><code>Databricks Shell</code></dd>\n            </dl>\n        </div>\n        "
            ]
          },
          "metadata": {
            "application/vnd.databricks.v1+output": {
              "datasetInfos": [],
              "data": "\n        <div>\n            <p><b>SparkContext</b></p>\n\n            <p><a href=\"/?o=3106858100295948#setting/sparkui/0912-161513-pyppzu9z/driver-8748264482356907420\">Spark UI</a></p>\n\n            <dl>\n              <dt>Version</dt>\n                <dd><code>v3.2.1</code></dd>\n              <dt>Master</dt>\n                <dd><code>local[8]</code></dd>\n              <dt>AppName</dt>\n                <dd><code>Databricks Shell</code></dd>\n            </dl>\n        </div>\n        ",
              "textData": null,
              "removedWidgets": [],
              "addedWidgets": {},
              "metadata": {},
              "type": "htmlSandbox",
              "arguments": {}
            }
          }
        }
      ]
    },
    {
      "cell_type": "code",
      "source": "print(spark)",
      "metadata": {
        "application/vnd.databricks.v1+cell": {
          "title": "",
          "showTitle": false,
          "inputWidgets": {},
          "nuid": "13574464-d2a9-41e2-b612-c0b72f4b9ad5"
        }
      },
      "execution_count": null,
      "outputs": [
        {
          "output_type": "display_data",
          "data": {
            "text/plain": [
              "<pyspark.sql.session.SparkSession object at 0x7ff3f7728850>\n"
            ]
          },
          "metadata": {
            "application/vnd.databricks.v1+output": {
              "datasetInfos": [],
              "data": "<pyspark.sql.session.SparkSession object at 0x7ff3f7728850>\n",
              "removedWidgets": [],
              "addedWidgets": {},
              "metadata": {},
              "type": "ansi",
              "arguments": {}
            }
          }
        }
      ]
    },
    {
      "cell_type": "code",
      "source": "pivot = spark.read.format(\"com.crealytics.spark.excel\").option(\"header\",\"true\").option(\"inferSchema\", \"true\").load(\"dbfs:/FileStore/tables/Pyspark_Task.xlsx\")",
      "metadata": {
        "application/vnd.databricks.v1+cell": {
          "title": "",
          "showTitle": false,
          "inputWidgets": {},
          "nuid": "fa648e55-7c56-479b-b1d6-cc5875bea3c0"
        }
      },
      "execution_count": null,
      "outputs": []
    },
    {
      "cell_type": "code",
      "source": "pivot.show()",
      "metadata": {
        "application/vnd.databricks.v1+cell": {
          "title": "",
          "showTitle": false,
          "inputWidgets": {},
          "nuid": "e970ec25-4df8-4872-bf70-84db8485d496"
        }
      },
      "execution_count": null,
      "outputs": [
        {
          "output_type": "display_data",
          "data": {
            "text/plain": [
              "+-------+----------+--------+--------+--------+--------+--------+-------+-------+-------+-------+-------+\n|Product|Plant Name|Sales_18|Sales_19|Sales_20|Sales_21|Sales_22| Inv_18| Inv_19| Inv_20| Inv_21| Inv_22|\n+-------+----------+--------+--------+--------+--------+--------+-------+-------+-------+-------+-------+\n|     P1|       PL1| 20000.0| 25000.0| 19000.0| 22000.0| 23000.0|13000.0|12000.0|13000.0|13500.0|14000.0|\n|     P2|       PL1| 80000.0| 90000.0| 75000.0| 78000.0|100000.0|18000.0|18000.0|18000.0|18000.0|18000.0|\n|     P3|       PL3| 35000.0| 32000.0| 56000.0| 40000.0| 42000.0|17000.0|20000.0|16000.0|15000.0|15000.0|\n|     P4|       PL2| 15000.0| 23000.0| 42000.0| 12000.0| 13000.0|13000.0|13000.0|13000.0|13000.0|13000.0|\n|     P5|       PL1| 85000.0| 19000.0| 24000.0| 15000.0| 13000.0|20000.0|22000.0|23000.0|23000.0|21000.0|\n+-------+----------+--------+--------+--------+--------+--------+-------+-------+-------+-------+-------+\n\n"
            ]
          },
          "metadata": {
            "application/vnd.databricks.v1+output": {
              "datasetInfos": [],
              "data": "+-------+----------+--------+--------+--------+--------+--------+-------+-------+-------+-------+-------+\n|Product|Plant Name|Sales_18|Sales_19|Sales_20|Sales_21|Sales_22| Inv_18| Inv_19| Inv_20| Inv_21| Inv_22|\n+-------+----------+--------+--------+--------+--------+--------+-------+-------+-------+-------+-------+\n|     P1|       PL1| 20000.0| 25000.0| 19000.0| 22000.0| 23000.0|13000.0|12000.0|13000.0|13500.0|14000.0|\n|     P2|       PL1| 80000.0| 90000.0| 75000.0| 78000.0|100000.0|18000.0|18000.0|18000.0|18000.0|18000.0|\n|     P3|       PL3| 35000.0| 32000.0| 56000.0| 40000.0| 42000.0|17000.0|20000.0|16000.0|15000.0|15000.0|\n|     P4|       PL2| 15000.0| 23000.0| 42000.0| 12000.0| 13000.0|13000.0|13000.0|13000.0|13000.0|13000.0|\n|     P5|       PL1| 85000.0| 19000.0| 24000.0| 15000.0| 13000.0|20000.0|22000.0|23000.0|23000.0|21000.0|\n+-------+----------+--------+--------+--------+--------+--------+-------+-------+-------+-------+-------+\n\n",
              "removedWidgets": [],
              "addedWidgets": {},
              "metadata": {},
              "type": "ansi",
              "arguments": {}
            }
          }
        }
      ]
    },
    {
      "cell_type": "code",
      "source": "pivot = sampleDF.withColumnRenamed('Plant Name', 'PlantName')",
      "metadata": {
        "application/vnd.databricks.v1+cell": {
          "title": "",
          "showTitle": false,
          "inputWidgets": {},
          "nuid": "8aa6b44d-1603-408a-899e-95f3b79cae88"
        }
      },
      "execution_count": null,
      "outputs": []
    },
    {
      "cell_type": "code",
      "source": "pivot.show()",
      "metadata": {
        "application/vnd.databricks.v1+cell": {
          "title": "",
          "showTitle": false,
          "inputWidgets": {},
          "nuid": "608dd50d-721e-40a3-aa5d-6f1d9ae62326"
        }
      },
      "execution_count": null,
      "outputs": [
        {
          "output_type": "display_data",
          "data": {
            "text/plain": [
              "+-------+---------+--------+--------+--------+--------+--------+-------+-------+-------+-------+-------+\n|Product|PlantName|Sales_18|Sales_19|Sales_20|Sales_21|Sales_22| Inv_18| Inv_19| Inv_20| Inv_21| Inv_22|\n+-------+---------+--------+--------+--------+--------+--------+-------+-------+-------+-------+-------+\n|     P1|      PL1| 20000.0| 25000.0| 19000.0| 22000.0| 23000.0|13000.0|12000.0|13000.0|13500.0|14000.0|\n|     P2|      PL1| 80000.0| 90000.0| 75000.0| 78000.0|100000.0|18000.0|18000.0|18000.0|18000.0|18000.0|\n|     P3|      PL3| 35000.0| 32000.0| 56000.0| 40000.0| 42000.0|17000.0|20000.0|16000.0|15000.0|15000.0|\n|     P4|      PL2| 15000.0| 23000.0| 42000.0| 12000.0| 13000.0|13000.0|13000.0|13000.0|13000.0|13000.0|\n|     P5|      PL1| 85000.0| 19000.0| 24000.0| 15000.0| 13000.0|20000.0|22000.0|23000.0|23000.0|21000.0|\n+-------+---------+--------+--------+--------+--------+--------+-------+-------+-------+-------+-------+\n\n"
            ]
          },
          "metadata": {
            "application/vnd.databricks.v1+output": {
              "datasetInfos": [],
              "data": "+-------+---------+--------+--------+--------+--------+--------+-------+-------+-------+-------+-------+\n|Product|PlantName|Sales_18|Sales_19|Sales_20|Sales_21|Sales_22| Inv_18| Inv_19| Inv_20| Inv_21| Inv_22|\n+-------+---------+--------+--------+--------+--------+--------+-------+-------+-------+-------+-------+\n|     P1|      PL1| 20000.0| 25000.0| 19000.0| 22000.0| 23000.0|13000.0|12000.0|13000.0|13500.0|14000.0|\n|     P2|      PL1| 80000.0| 90000.0| 75000.0| 78000.0|100000.0|18000.0|18000.0|18000.0|18000.0|18000.0|\n|     P3|      PL3| 35000.0| 32000.0| 56000.0| 40000.0| 42000.0|17000.0|20000.0|16000.0|15000.0|15000.0|\n|     P4|      PL2| 15000.0| 23000.0| 42000.0| 12000.0| 13000.0|13000.0|13000.0|13000.0|13000.0|13000.0|\n|     P5|      PL1| 85000.0| 19000.0| 24000.0| 15000.0| 13000.0|20000.0|22000.0|23000.0|23000.0|21000.0|\n+-------+---------+--------+--------+--------+--------+--------+-------+-------+-------+-------+-------+\n\n",
              "removedWidgets": [],
              "addedWidgets": {},
              "metadata": {},
              "type": "ansi",
              "arguments": {}
            }
          }
        }
      ]
    },
    {
      "cell_type": "code",
      "source": "from pyspark.sql import *",
      "metadata": {
        "application/vnd.databricks.v1+cell": {
          "title": "",
          "showTitle": false,
          "inputWidgets": {},
          "nuid": "edbc875a-1531-48f9-bea2-f868357fc1cc"
        }
      },
      "execution_count": null,
      "outputs": []
    },
    {
      "cell_type": "code",
      "source": "pivot.createTempView(\"PlantTable\")",
      "metadata": {
        "application/vnd.databricks.v1+cell": {
          "title": "",
          "showTitle": false,
          "inputWidgets": {},
          "nuid": "3902655c-f891-463f-8382-7cbd289cf4d1"
        }
      },
      "execution_count": null,
      "outputs": []
    },
    {
      "cell_type": "code",
      "source": "spark.sql(\"select Product, PlantName, stack(10, 'Sales_18', Sales_18, 'Sales_19', Sales_19, 'Sales_20' ,Sales_20, 'Sales_21', Sales_21, 'Sales_22', Sales_22, 'Inv_18', Inv_18, 'Inv_19', Inv_19, 'Inv_20', Inv_20, 'Inv_21', Inv_21, 'Inv_22', Inv_22) as (Metric, Value) from PlantTable\").show(60)",
      "metadata": {
        "application/vnd.databricks.v1+cell": {
          "title": "",
          "showTitle": false,
          "inputWidgets": {},
          "nuid": "94f38140-b6f7-41e1-9af1-faec49e16ee4"
        }
      },
      "execution_count": null,
      "outputs": [
        {
          "output_type": "display_data",
          "data": {
            "text/plain": [
              "+-------+---------+--------+--------+\n|Product|PlantName|  Metric|   Value|\n+-------+---------+--------+--------+\n|     P1|      PL1|Sales_18| 20000.0|\n|     P1|      PL1|Sales_19| 25000.0|\n|     P1|      PL1|Sales_20| 19000.0|\n|     P1|      PL1|Sales_21| 22000.0|\n|     P1|      PL1|Sales_22| 23000.0|\n|     P1|      PL1|  Inv_18| 13000.0|\n|     P1|      PL1|  Inv_19| 12000.0|\n|     P1|      PL1|  Inv_20| 13000.0|\n|     P1|      PL1|  Inv_21| 13500.0|\n|     P1|      PL1|  Inv_22| 14000.0|\n|     P2|      PL1|Sales_18| 80000.0|\n|     P2|      PL1|Sales_19| 90000.0|\n|     P2|      PL1|Sales_20| 75000.0|\n|     P2|      PL1|Sales_21| 78000.0|\n|     P2|      PL1|Sales_22|100000.0|\n|     P2|      PL1|  Inv_18| 18000.0|\n|     P2|      PL1|  Inv_19| 18000.0|\n|     P2|      PL1|  Inv_20| 18000.0|\n|     P2|      PL1|  Inv_21| 18000.0|\n|     P2|      PL1|  Inv_22| 18000.0|\n|     P3|      PL3|Sales_18| 35000.0|\n|     P3|      PL3|Sales_19| 32000.0|\n|     P3|      PL3|Sales_20| 56000.0|\n|     P3|      PL3|Sales_21| 40000.0|\n|     P3|      PL3|Sales_22| 42000.0|\n|     P3|      PL3|  Inv_18| 17000.0|\n|     P3|      PL3|  Inv_19| 20000.0|\n|     P3|      PL3|  Inv_20| 16000.0|\n|     P3|      PL3|  Inv_21| 15000.0|\n|     P3|      PL3|  Inv_22| 15000.0|\n|     P4|      PL2|Sales_18| 15000.0|\n|     P4|      PL2|Sales_19| 23000.0|\n|     P4|      PL2|Sales_20| 42000.0|\n|     P4|      PL2|Sales_21| 12000.0|\n|     P4|      PL2|Sales_22| 13000.0|\n|     P4|      PL2|  Inv_18| 13000.0|\n|     P4|      PL2|  Inv_19| 13000.0|\n|     P4|      PL2|  Inv_20| 13000.0|\n|     P4|      PL2|  Inv_21| 13000.0|\n|     P4|      PL2|  Inv_22| 13000.0|\n|     P5|      PL1|Sales_18| 85000.0|\n|     P5|      PL1|Sales_19| 19000.0|\n|     P5|      PL1|Sales_20| 24000.0|\n|     P5|      PL1|Sales_21| 15000.0|\n|     P5|      PL1|Sales_22| 13000.0|\n|     P5|      PL1|  Inv_18| 20000.0|\n|     P5|      PL1|  Inv_19| 22000.0|\n|     P5|      PL1|  Inv_20| 23000.0|\n|     P5|      PL1|  Inv_21| 23000.0|\n|     P5|      PL1|  Inv_22| 21000.0|\n+-------+---------+--------+--------+\n\n"
            ]
          },
          "metadata": {
            "application/vnd.databricks.v1+output": {
              "datasetInfos": [],
              "data": "+-------+---------+--------+--------+\n|Product|PlantName|  Metric|   Value|\n+-------+---------+--------+--------+\n|     P1|      PL1|Sales_18| 20000.0|\n|     P1|      PL1|Sales_19| 25000.0|\n|     P1|      PL1|Sales_20| 19000.0|\n|     P1|      PL1|Sales_21| 22000.0|\n|     P1|      PL1|Sales_22| 23000.0|\n|     P1|      PL1|  Inv_18| 13000.0|\n|     P1|      PL1|  Inv_19| 12000.0|\n|     P1|      PL1|  Inv_20| 13000.0|\n|     P1|      PL1|  Inv_21| 13500.0|\n|     P1|      PL1|  Inv_22| 14000.0|\n|     P2|      PL1|Sales_18| 80000.0|\n|     P2|      PL1|Sales_19| 90000.0|\n|     P2|      PL1|Sales_20| 75000.0|\n|     P2|      PL1|Sales_21| 78000.0|\n|     P2|      PL1|Sales_22|100000.0|\n|     P2|      PL1|  Inv_18| 18000.0|\n|     P2|      PL1|  Inv_19| 18000.0|\n|     P2|      PL1|  Inv_20| 18000.0|\n|     P2|      PL1|  Inv_21| 18000.0|\n|     P2|      PL1|  Inv_22| 18000.0|\n|     P3|      PL3|Sales_18| 35000.0|\n|     P3|      PL3|Sales_19| 32000.0|\n|     P3|      PL3|Sales_20| 56000.0|\n|     P3|      PL3|Sales_21| 40000.0|\n|     P3|      PL3|Sales_22| 42000.0|\n|     P3|      PL3|  Inv_18| 17000.0|\n|     P3|      PL3|  Inv_19| 20000.0|\n|     P3|      PL3|  Inv_20| 16000.0|\n|     P3|      PL3|  Inv_21| 15000.0|\n|     P3|      PL3|  Inv_22| 15000.0|\n|     P4|      PL2|Sales_18| 15000.0|\n|     P4|      PL2|Sales_19| 23000.0|\n|     P4|      PL2|Sales_20| 42000.0|\n|     P4|      PL2|Sales_21| 12000.0|\n|     P4|      PL2|Sales_22| 13000.0|\n|     P4|      PL2|  Inv_18| 13000.0|\n|     P4|      PL2|  Inv_19| 13000.0|\n|     P4|      PL2|  Inv_20| 13000.0|\n|     P4|      PL2|  Inv_21| 13000.0|\n|     P4|      PL2|  Inv_22| 13000.0|\n|     P5|      PL1|Sales_18| 85000.0|\n|     P5|      PL1|Sales_19| 19000.0|\n|     P5|      PL1|Sales_20| 24000.0|\n|     P5|      PL1|Sales_21| 15000.0|\n|     P5|      PL1|Sales_22| 13000.0|\n|     P5|      PL1|  Inv_18| 20000.0|\n|     P5|      PL1|  Inv_19| 22000.0|\n|     P5|      PL1|  Inv_20| 23000.0|\n|     P5|      PL1|  Inv_21| 23000.0|\n|     P5|      PL1|  Inv_22| 21000.0|\n+-------+---------+--------+--------+\n\n",
              "removedWidgets": [],
              "addedWidgets": {},
              "metadata": {},
              "type": "ansi",
              "arguments": {}
            }
          }
        }
      ]
    },
    {
      "cell_type": "code",
      "source": "",
      "metadata": {
        "application/vnd.databricks.v1+cell": {
          "title": "",
          "showTitle": false,
          "inputWidgets": {},
          "nuid": "7b5bc11e-46f6-4257-911c-0bf5d1a82ecb"
        }
      },
      "execution_count": null,
      "outputs": []
    }
  ]
}